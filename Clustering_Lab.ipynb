{
  "cells": [
    {
      "cell_type": "markdown",
      "metadata": {
        "id": "DVL7_bgmIAPR"
      },
      "source": [
        "# Unsupervised Learning: Clustering Lab\n",
        "\n",
        "\n",
        "\n"
      ]
    },
    {
      "cell_type": "code",
      "execution_count": 4,
      "metadata": {
        "id": "6ZbYjZZZ_yLV"
      },
      "outputs": [],
      "source": [
        "from sklearn.base import BaseEstimator, ClassifierMixin, ClusterMixin\n",
        "from sklearn.cluster import AgglomerativeClustering, KMeans\n",
        "from sklearn.metrics import silhouette_score\n",
        "import numpy as np\n",
        "import matplotlib.pyplot as plt\n",
        "import os\n",
        "from scipy.io import arff\n",
        "import pandas as pd"
      ]
    },
    {
      "cell_type": "markdown",
      "metadata": {
        "id": "sCcEPx5VIORj"
      },
      "source": [
        "## 1. Implement the HAC and K-means algorithms\n",
        "For both algorithms:\n",
        "- Use euclidean distance as the distance metric\n",
        "- You only need to handle continuous features, but think about how you would handle nominal and unknown data\n",
        "---\n",
        "When reporting the results of each algorithm, include the following:\n",
        "- The number of clusters (*k*)\n",
        "- The silhouette score of the full clustering (You can either write and use your own silhouette_score function (extra credit) or use sklearn's)\n",
        "\n",
        "For each cluster include:\n",
        "- The vectors of points representing the cluster centroid\n",
        "- The number of instances tied to that centroid\n",
        "---\n",
        "\n",
        "### 1.1 HAC (Hierarchical Agglomerative Clustering)\n",
        "\n",
        "### HAC Code requirements \n",
        "- HAC should support both single link and complete link options.\n",
        "- HAC automatically generates all clusterings from *n* to 1.  To reduce the amount of output implement a mechanism to specify for which *k* values actual output will be generated."
      ]
    },
    {
      "cell_type": "code",
      "execution_count": 99,
      "metadata": {
        "id": "_a2KSZ_7AN0G"
      },
      "outputs": [],
      "source": [
        "class HACClustering(BaseEstimator,ClusterMixin):\n",
        "\n",
        "    def __init__(self,k=3,link_type='single'): ## add parameters here\n",
        "        \"\"\"\n",
        "        Args:\n",
        "            k = how many final clusters to have\n",
        "            link_type = single or complete. when combining two clusters use complete link or single link\n",
        "        \"\"\"\n",
        "        self.link_type = link_type\n",
        "        self.k = k\n",
        "        \n",
        "    def fit(self, X, y=None):\n",
        "        \"\"\" Fit the data; In this lab this will make the K clusters :D\n",
        "        Args:\n",
        "            X (array-like): A 2D numpy array with the training data\n",
        "            y (array-like): An optional argument. Clustering is usually unsupervised so you don't need labels\n",
        "        Returns:\n",
        "            self: this allows this to be chained, e.g. model.fit(X,y).predict(X_test)\n",
        "        \"\"\"\n",
        "        self.k_clusters = {} # key: cluster number, value: list of points in cluster, array of centroids\n",
        "        self.X = X\n",
        "\n",
        "        # Create nxn distance matrix\n",
        "        n = X.shape[0]\n",
        "        dist_matrix = np.zeros((n,n))\n",
        "        for i in range(n):\n",
        "            for j in range(n):\n",
        "                dist_matrix[i,j] = np.linalg.norm(X[i]-X[j])\n",
        "\n",
        "        # Initialize each instance to be its own cluster\n",
        "        clusters = [[i] for i in range(n)]\n",
        "        # Add cluster to k_clusters dictionary\n",
        "        self.k_clusters[len(clusters)] = clusters[:]\n",
        "\n",
        "        # Merge clusters until there is just one cluster containing all instances\n",
        "        while len(clusters) > 1:\n",
        "            # Find the two clusters with the closest centroids\n",
        "            min_dist = np.inf\n",
        "            min_i = -1\n",
        "            min_j = -1\n",
        "            for i in range(len(clusters)):\n",
        "                for j in range(i+1,len(clusters)):\n",
        "                    if self.link_type == 'single':\n",
        "                        dist = np.min(dist_matrix[clusters[i]][:,clusters[j]])\n",
        "                    elif self.link_type == 'complete':\n",
        "                        dist = np.max(dist_matrix[clusters[i]][:,clusters[j]])\n",
        "                    else:\n",
        "                        # average link because why not\n",
        "                        # Find the distance between the centroids of the two clusters\n",
        "                        centroid_i = np.mean(X[clusters[i]],axis=0)\n",
        "                        centroid_j = np.mean(X[clusters[j]],axis=0)\n",
        "                        dist = np.linalg.norm(centroid_i-centroid_j)\n",
        "\n",
        "                    if dist < min_dist:\n",
        "                        min_dist = dist\n",
        "                        min_i = i\n",
        "                        min_j = j\n",
        "\n",
        "            # Merge the two clusters\n",
        "            clusters[min_i] = clusters[min_i] + clusters[min_j]\n",
        "            del clusters[min_j]\n",
        "\n",
        "            # Add cluster to k_clusters dictionary\n",
        "            self.k_clusters[len(clusters)] = clusters[:]\n",
        "\n",
        "        self.labels = self.get_labels()\n",
        "\n",
        "        return self\n",
        "    \n",
        "    def print_clusters(self):\n",
        "        \"\"\"\n",
        "            Used for grading.\n",
        "            print(\"Num clusters: {:d}\\n\".format(k))\n",
        "            print(\"Silhouette score: {:.4f}\\n\\n\".format(silhouette_score))\n",
        "            for each cluster and centroid:\n",
        "                print(np.array2string(centroid,precision=4,separator=\",\"))\n",
        "                print(\"{:d}\\n\".format(size of cluster))\n",
        "        \"\"\"\n",
        "        print(\"Num clusters: {:d}\\n\".format(self.k))\n",
        "        print(\"Silhouette score: {:.4f}\\n\\n\".format(silhouette_score(self.X, self.labels, metric='euclidean')))\n",
        "\n",
        "        # Find the centroids of each cluster\n",
        "        centroids = [np.mean(self.X[np.array(cluster)], axis=0).astype(float) for cluster in self.k_clusters[self.k]]\n",
        "\n",
        "        # For each cluster and centroid\n",
        "        for i in range(self.k):\n",
        "            print(np.array2string(np.array(centroids[i]),precision=4,separator=\",\"))\n",
        "            print(\"{:d}\\n\".format(len(self.k_clusters[self.k][i])))\n",
        "\n",
        "    def get_labels(self):\n",
        "        \"\"\"\n",
        "            Returns the labels for the data points\n",
        "        \"\"\"\n",
        "        labels = np.zeros(self.X.shape[0])\n",
        "        for i in range(self.k):\n",
        "            labels[self.k_clusters[self.k][i]] = i\n",
        "        return labels\n",
        "\n",
        "    def get_silhuoeutte_score(self):\n",
        "        \"\"\"\n",
        "            Returns the silhouette score for the clustering\n",
        "        \"\"\"\n",
        "        return silhouette_score(self.X, self.labels, metric='euclidean')"
      ]
    },
    {
      "cell_type": "markdown",
      "metadata": {
        "id": "KibCIXIThpbE"
      },
      "source": [
        "### 1.1.1 (15%) Debug \n",
        "\n",
        "Debug your model by running it on the [Debug Dataset](https://raw.githubusercontent.com/cs472ta/CS472/master/datasets/abalone.arff)\n",
        "\n",
        "\n",
        "---\n",
        "The dataset was modified to be smaller. The last datapoint should be on line 359 or the point 0.585,0.46,0.185,0.922,0.3635,0.213,0.285,10. The remaining points are commented out.\n",
        "\n",
        "- Include the output class (last column) as an additional input feature\n",
        "- Normalize Data--attributes should be normalized using the formula (x-xmin)/(xmax-xmin). Do this exact normalization rather than call the scikit normalization, else you will not get the same answers as us.\n",
        "- Report results for *k* = 5\n",
        "- Use 4 decimal places and DO NOT ROUND when reporting silhouette score and centroid values.\n",
        "\n",
        "---\n",
        "Solutions in files:\n",
        "\n",
        "[Debug HAC Single (Silhouette).txt](https://raw.githubusercontent.com/cs472ta/CS472/master/debug_solutions/Debug%20HAC%20Single%20Link%20%28Silhouette%29.txt)\n",
        "\n",
        "[Debug HAC Complete (Silhouette).txt](https://raw.githubusercontent.com/cs472ta/CS472/master/debug_solutions/Debug%20HAC%20Complete%20Link%20%28Silhouette%29.txt)"
      ]
    },
    {
      "cell_type": "code",
      "execution_count": 6,
      "metadata": {},
      "outputs": [],
      "source": [
        "if not os.path.isfile(\"abalone.arff\"):\n",
        "    !curl -O https://raw.githubusercontent.com/cs472ta/CS472/master/datasets/abalone.arff"
      ]
    },
    {
      "cell_type": "code",
      "execution_count": 7,
      "metadata": {},
      "outputs": [
        {
          "name": "stdout",
          "output_type": "stream",
          "text": [
            "Num clusters: 5\n",
            "\n",
            "Silhouette score: 0.3453\n",
            "\n",
            "\n",
            "[0.599 ,0.5923,0.4915,0.2826,0.2682,0.2921,0.2316,0.3849]\n",
            "195\n",
            "\n",
            "[0.9189,0.9438,0.7105,0.7016,0.759 ,0.7222,0.4472,0.8824]\n",
            "1\n",
            "\n",
            "[1.    ,0.9831,0.8026,0.8343,0.6575,0.7825,0.9221,0.8824]\n",
            "2\n",
            "\n",
            "[1.    ,0.9888,0.7895,1.    ,1.    ,0.8915,0.7186,0.5882]\n",
            "1\n",
            "\n",
            "[0.9189,0.9888,0.8684,0.719 ,0.5797,0.7512,0.6432,0.9412]\n",
            "1\n",
            "\n",
            "Num clusters: 5\n",
            "\n",
            "Silhouette score: 0.3095\n",
            "\n",
            "\n",
            "[0.6544,0.649 ,0.5256,0.2879,0.2815,0.3057,0.2288,0.3911]\n",
            "71\n",
            "\n",
            "[0.3661,0.3505,0.271 ,0.1008,0.1024,0.1058,0.0836,0.2116]\n",
            "67\n",
            "\n",
            "[0.7622,0.7658,0.6759,0.4265,0.4016,0.4536,0.3376,0.5217]\n",
            "38\n",
            "\n",
            "[0.8818,0.8904,0.7582,0.614 ,0.5433,0.5317,0.561 ,0.7794]\n",
            "16\n",
            "\n",
            "[0.9471,0.934 ,0.8158,0.7457,0.6434,0.7944,0.6457,0.625 ]\n",
            "8\n",
            "\n"
          ]
        }
      ],
      "source": [
        "# Debug Here\n",
        "# Load data\n",
        "data = arff.loadarff('abalone.arff')\n",
        "df = pd.DataFrame(data[0])\n",
        "data_np = df.to_numpy()\n",
        "\n",
        "# Normalize data with (x-xmin)/(xmax-xmin)\n",
        "for i in range(data_np.shape[1]):\n",
        "    data_np[:,i] = (data_np[:,i] - np.min(data_np[:,i]))/(np.max(data_np[:,i]) - np.min(data_np[:,i]))\n",
        "\n",
        "# Report results for k = 5 and single link\n",
        "model_single = HACClustering(k=5,link_type='single')\n",
        "model_single.fit(data_np, y=data_np[:,-1])\n",
        "model_single.print_clusters()\n",
        "\n",
        "# Report results for k = 5 and complete link\n",
        "model_complete = HACClustering(k=5,link_type='complete')\n",
        "model_complete.fit(data_np)\n",
        "model_complete.print_clusters()\n"
      ]
    },
    {
      "cell_type": "markdown",
      "metadata": {},
      "source": [
        "Discussion"
      ]
    },
    {
      "cell_type": "markdown",
      "metadata": {},
      "source": [
        "My HAC algorithm worked as follows: first, it creates a nxn distance matrix between all the points and initializes every data point to be its own cluster. Then it loops as long as there are more than one clusters combining clusters using either single-link or complete-link. It adds the clusters to a dictionary keeping track of every k value as it loops. \n",
        "\n",
        "After loading the debug dataset, I fit the HAC model with the single link type and then the complete link type. The results can be seen above, both of which match the debug solution files. The single-link model got a silhouette score of 0.3453 and the complete-link model got a silhouette score of 0.3095. It's interesting to note that with the single-link model, 195 out of the 200 data points were clustered together while the other 5 were in the 4 remaining clusters. The complete-link was a lot more balanced."
      ]
    },
    {
      "cell_type": "markdown",
      "metadata": {
        "id": "kY3VNB1ui03N"
      },
      "source": [
        "### 1.1.2 (15%) Evaluation\n",
        "\n",
        "We will evaluate your model based on its print_clusters() output using this [Evaluation Dataset](https://raw.githubusercontent.com/cs472ta/CS472/master/datasets/seismic-bumps_train.arff) using the *same* parameters as for Debug"
      ]
    },
    {
      "cell_type": "markdown",
      "metadata": {
        "id": "Gg1UE0p3-Jen"
      },
      "source": [
        "#### Complete Link"
      ]
    },
    {
      "cell_type": "code",
      "execution_count": 8,
      "metadata": {},
      "outputs": [],
      "source": [
        "if not os.path.isfile(\"seismic-bumps_train.arff\"):\n",
        "    !curl -O https://raw.githubusercontent.com/cs472ta/CS472/master/datasets/seismic-bumps_train.arff"
      ]
    },
    {
      "cell_type": "code",
      "execution_count": 9,
      "metadata": {
        "id": "2yAxA78QjDh2"
      },
      "outputs": [
        {
          "name": "stdout",
          "output_type": "stream",
          "text": [
            "Num clusters: 5\n",
            "\n",
            "Silhouette score: 0.2930\n",
            "\n",
            "\n",
            "[0.3636,0.4107,0.5609,0.3857,0.3937,0.2808,0.3155,0.    ]\n",
            "49\n",
            "\n",
            "[0.3471,0.3622,0.7897,0.279 ,0.441 ,0.8568,0.2234,0.    ]\n",
            "3\n",
            "\n",
            "[0.1656,0.2226,0.3509,0.2328,0.152 ,0.3424,0.1918,0.    ]\n",
            "18\n",
            "\n",
            "[0.7918,0.8268,0.606 ,0.7669,0.7787,0.4634,0.7877,1.    ]\n",
            "49\n",
            "\n",
            "[0.5326,0.6002,0.4536,0.5531,0.5144,0.5401,0.6266,1.    ]\n",
            "21\n",
            "\n"
          ]
        }
      ],
      "source": [
        "# Load evaluation data\n",
        "data = arff.loadarff('seismic-bumps_train.arff')\n",
        "df = pd.DataFrame(data[0])\n",
        "data_np = df.to_numpy()\n",
        "\n",
        "# Convert 'Class' row from b'1' and b'2' to integers 1 and 2\n",
        "data_np[:,-1] = data_np[:,-1].astype(float)\n",
        "\n",
        "# Normalize data with (x-xmin)/(xmax-xmin)\n",
        "for i in range(data_np.shape[1]):\n",
        "    data_np[:,i] = (data_np[:,i] - np.min(data_np[:,i]))/(np.max(data_np[:,i]) - np.min(data_np[:,i]))\n",
        "\n",
        "# Train on evaluation data using complete link\n",
        "eval_model_complete = HACClustering(k=5,link_type='complete')\n",
        "eval_model_complete.fit(data_np)\n",
        "\n",
        "# Print clusters\n",
        "eval_model_complete.print_clusters()"
      ]
    },
    {
      "cell_type": "markdown",
      "metadata": {
        "id": "pQVABkYL-Jeo"
      },
      "source": [
        "#### Single Link"
      ]
    },
    {
      "cell_type": "code",
      "execution_count": 10,
      "metadata": {
        "id": "PxJ0DA92-Jeo"
      },
      "outputs": [
        {
          "name": "stdout",
          "output_type": "stream",
          "text": [
            "Num clusters: 5\n",
            "\n",
            "Silhouette score: 0.3971\n",
            "\n",
            "\n",
            "[0.3159,0.3648,0.5145,0.349 ,0.3338,0.3077,0.2868,0.    ]\n",
            "67\n",
            "\n",
            "[0.2774,0.2597,1.    ,0.1224,0.4505,0.7549,0.129 ,0.    ]\n",
            "1\n",
            "\n",
            "[0.3065,0.3333,0.6979,0.2792,0.3787,1.    ,0.2373,0.    ]\n",
            "1\n",
            "\n",
            "[0.0884,0.1818,0.    ,0.145 ,0.1538,0.1245,0.    ,0.    ]\n",
            "1\n",
            "\n",
            "[0.714 ,0.7588,0.5603,0.7028,0.6994,0.4864,0.7393,1.    ]\n",
            "70\n",
            "\n"
          ]
        }
      ],
      "source": [
        "# Load evaluation data\n",
        "# Train on evaluation data using single link\n",
        "eval_model_single = HACClustering(k=5,link_type='single')\n",
        "eval_model_single.fit(data_np)\n",
        "\n",
        "# Print clusters\n",
        "eval_model_single.print_clusters()"
      ]
    },
    {
      "cell_type": "markdown",
      "metadata": {},
      "source": [
        "Discussion"
      ]
    },
    {
      "cell_type": "markdown",
      "metadata": {},
      "source": [
        "For the evaluation dataset, I had to make sure to change the last column from bytes to floats, which caused some problems initially. Otherwise it was pretty straightforward. My results for both the complete-link and single-link model are printed above. The complete-link model got a silhouette score of 0.2930 while the single-link model did better with a silhouette score of 0.3971. I thought it was interesting that the single-link model had most of the data in 2 clusters with the other three clusters containing only 1 data point each. The complete-link model was a little more balanced, with a majority of the data being distributed over 4 of the 5 clusters."
      ]
    },
    {
      "cell_type": "markdown",
      "metadata": {
        "id": "ougZHjiL-Jeo"
      },
      "source": [
        "### 1.2 K-means\n",
        "\n",
        "### Code requirements \n",
        "- Ability to choose *k* and specify the *k* initial centroids\n",
        "- Ability to handle distance ties--when a node or cluster has the same distance to another cluster, which should be rare, choose the earliest cluster in your list"
      ]
    },
    {
      "cell_type": "code",
      "execution_count": 112,
      "metadata": {
        "id": "wNeVvoZl-Jeo"
      },
      "outputs": [],
      "source": [
        "class KMEANSClustering(BaseEstimator,ClusterMixin):\n",
        "\n",
        "    def __init__(self,k=3,debug=False): ## add parameters here\n",
        "        \"\"\"\n",
        "        Args:\n",
        "            k = how many final clusters to have\n",
        "            debug = if debug is true use the first k instances as the initial centroids otherwise choose random points as the initial centroids.\n",
        "        \"\"\"\n",
        "        self.k = k\n",
        "        self.debug = debug\n",
        "\n",
        "    def fit(self, X, y=None):\n",
        "        \"\"\" Fit the data; In this lab this will make the K clusters :D\n",
        "        Args:\n",
        "            X (array-like): A 2D numpy array with the training data\n",
        "            y (array-like): An optional argument. Clustering is usually unsupervised so you don't need labels\n",
        "        Returns:\n",
        "            self: this allows this to be chained, e.g. model.fit(X,y).predict(X_test)\n",
        "        \"\"\"\n",
        "        self.X = X.astype(float)\n",
        "\n",
        "        # Randomly choose k instances from X to be the initial k centroids\n",
        "        if self.debug:\n",
        "            self.centroids = self.X[:self.k]\n",
        "        else:\n",
        "            self.centroids = self.X[np.random.choice(self.X.shape[0], self.k, replace=False),:]\n",
        "\n",
        "        self.labels = self.get_labels()\n",
        "\n",
        "        # self.clusters = {i:list() for i in range(self.k)}\n",
        "\n",
        "        # Repeat until no (or negligible) more changes occur\n",
        "        while True:\n",
        "            self.clusters = {i:list() for i in range(self.k)}\n",
        "            # Group each instance with its closest centroid\n",
        "            for i in range(self.X.shape[0]):\n",
        "                # Find the closest centroid to the instance\n",
        "                closest_centroid = np.argmin(np.linalg.norm(self.centroids - self.X[i], axis=1))\n",
        "                # Add the instance to the cluster of the closest centroid\n",
        "                self.clusters[closest_centroid].append(self.X[i])\n",
        "\n",
        "            # Calculate the new centroids\n",
        "            new_centroids = np.zeros(self.centroids.shape)\n",
        "            for i in range(self.k):\n",
        "                new_centroids[i] = np.mean(np.array(self.clusters[i]), axis=0)\n",
        "\n",
        "            # calculate new labels\n",
        "            self.centroids = new_centroids\n",
        "            new_labels = self.get_labels()\n",
        "            \n",
        "            # if the labels are the same as the previous iteration, stop\n",
        "            if np.array_equal(self.labels, new_labels):\n",
        "                break\n",
        "\n",
        "            self.labels = new_labels\n",
        "            \n",
        "        return self\n",
        "    \n",
        "    def print_clusters(self):\n",
        "        \"\"\"\n",
        "            Used for grading.\n",
        "            print(\"Num clusters: {:d}\\n\".format(k))\n",
        "            print(\"Silhouette score: {:.4f}\\n\\n\".format(silhouette_score))\n",
        "            for each cluster and centroid:\n",
        "                print(np.array2string(centroid,precision=4,separator=\",\"))\n",
        "                print(\"{:d}\\n\".format(size of cluster))\n",
        "        \"\"\"\n",
        "        print(\"Num clusters: {:d}\\n\".format(self.k))\n",
        "        print(\"Silhouette score: {:.4f}\\n\\n\".format(silhouette_score(self.X,self.labels)))\n",
        "        for i in range(self.k):\n",
        "            print(np.array2string(self.centroids[i],precision=4,separator=\",\"))\n",
        "            print(\"{:d}\\n\".format(len(self.clusters[i])))\n",
        "\n",
        "    def get_labels(self):\n",
        "        \"\"\"\n",
        "            Used for grading.\n",
        "            return a list of labels for each instance in the order they were passed in.\n",
        "        \"\"\"\n",
        "        labels = list()\n",
        "        for i in range(self.X.shape[0]):\n",
        "            # Find the closest centroid to the instance\n",
        "            closest_centroid = np.argmin(np.linalg.norm(self.centroids - self.X[i], axis=1))\n",
        "            labels.append(closest_centroid)\n",
        "        return np.array(labels)\n",
        "\n",
        "    def get_silhuoeutte_score(self):\n",
        "        \"\"\"\n",
        "            Returns the silhouette score for the clustering\n",
        "        \"\"\"\n",
        "        return silhouette_score(self.X, self.labels, metric='euclidean')"
      ]
    },
    {
      "cell_type": "markdown",
      "metadata": {
        "id": "sVZID7Nf-Jeo"
      },
      "source": [
        "### 1.2.1 (10%) K-Means Debug \n",
        "\n",
        "Debug your model by running it on the [Debug Dataset](https://raw.githubusercontent.com/cs472ta/CS472/master/datasets/abalone.arff)\n",
        "\n",
        "- Train until convergence\n",
        "- Make sure to include the output class (last column) as an additional input feature\n",
        "- Normalize Data--attributes should be normalized using the formula (x-xmin)/(xmax-xmin). Do this exact normalization rather than call the scikit nomralization, else you will not get the same answers as us.\n",
        "- Use *k* = 5\n",
        "- Use the first *k* instances in the training set as the initial centroids\n",
        "- Use 4 decimal places and DO NOT ROUND when reporting silhouette score and centroid values\n",
        "\n",
        "---\n",
        "Solution in file:\n",
        "\n",
        "[Debug K Means (Silhouette).txt](https://raw.githubusercontent.com/cs472ta/CS472/master/debug_solutions/Debug%20K%20Means%20%28Silhouette%29.txt)"
      ]
    },
    {
      "cell_type": "code",
      "execution_count": 90,
      "metadata": {
        "id": "KgAyy82gixIF"
      },
      "outputs": [
        {
          "name": "stdout",
          "output_type": "stream",
          "text": [
            "Num clusters: 5\n",
            "\n",
            "Silhouette score: 0.3845\n",
            "\n",
            "\n",
            "[0.7325,0.7327,0.627 ,0.3817,0.3633,0.4045,0.3046,0.4839]\n",
            "75\n",
            "\n",
            "[0.3704,0.3519,0.2686,0.0926,0.0935,0.094 ,0.0792,0.218 ]\n",
            "34\n",
            "\n",
            "[0.9035,0.905 ,0.7774,0.6579,0.5767,0.6193,0.5893,0.7279]\n",
            "24\n",
            "\n",
            "[0.5692,0.5628,0.4376,0.211 ,0.2113,0.2248,0.1659,0.317 ]\n",
            "54\n",
            "\n",
            "[0.1296,0.1037,0.1053,0.0177,0.0211,0.0272,0.0135,0.0724]\n",
            "13\n",
            "\n"
          ]
        }
      ],
      "source": [
        "# Load debug data\n",
        "data = arff.loadarff('abalone.arff')\n",
        "df = pd.DataFrame(data[0])\n",
        "data_np = df.to_numpy()\n",
        "\n",
        "# Normalize data with (x-xmin)/(xmax-xmin)\n",
        "for i in range(data_np.shape[1]):\n",
        "    data_np[:,i] = (data_np[:,i] - np.min(data_np[:,i]))/(np.max(data_np[:,i]) - np.min(data_np[:,i]))\n",
        "\n",
        "# Train on debug data\n",
        "model = KMEANSClustering(k=5,debug=True)\n",
        "model.fit(data_np)\n",
        "\n",
        "# Print clusters\n",
        "model.print_clusters()"
      ]
    },
    {
      "cell_type": "markdown",
      "metadata": {},
      "source": [
        "Discussion"
      ]
    },
    {
      "cell_type": "markdown",
      "metadata": {},
      "source": [
        "K-means was a little easier to implement for me. First the algorithm randomly chooses k instances from X to be the initial k centroids (unless debugging, then it just picks the first k data values). Then it repeatedly groups each instances with its closest centroid and then calculates new centroids from those values. It does this until convergence (no change in labels).\n",
        "\n",
        "The silhouette score from the K-means model on the debug dataset was 0.3845 which was better than the single-link HAC and complete-link HAC models."
      ]
    },
    {
      "cell_type": "markdown",
      "metadata": {
        "id": "-dM7dY52-Jep"
      },
      "source": [
        "### 1.2.2 (15%) K-Means Evaluation\n",
        "\n",
        "We will evaluate your model based on its print_clusters() output using this [Evaluation Dataset](https://raw.githubusercontent.com/cs472ta/CS472/master/datasets/seismic-bumps_train.arff) using the *same* parameters as for Debug"
      ]
    },
    {
      "cell_type": "code",
      "execution_count": 91,
      "metadata": {
        "id": "iYDNgbmN-Jep"
      },
      "outputs": [
        {
          "name": "stdout",
          "output_type": "stream",
          "text": [
            "Num clusters: 5\n",
            "\n",
            "Silhouette score: 0.2769\n",
            "\n",
            "\n",
            "[0.5349,0.6013,0.4617,0.5541,0.5232,0.5544,0.6248,1.    ]\n",
            "22\n",
            "\n",
            "[0.3684,0.4338,0.4356,0.4388,0.3573,0.2988,0.3673,0.    ]\n",
            "31\n",
            "\n",
            "[0.3658,0.3854,0.7563,0.3093,0.4659,0.3691,0.2413,0.    ]\n",
            "20\n",
            "\n",
            "[0.1634,0.2137,0.3968,0.2178,0.1555,0.3078,0.1775,0.    ]\n",
            "19\n",
            "\n",
            "[0.7961,0.831 ,0.6054,0.7709,0.7802,0.4553,0.7919,1.    ]\n",
            "48\n",
            "\n"
          ]
        }
      ],
      "source": [
        "# Load evaluation data\n",
        "data = arff.loadarff('seismic-bumps_train.arff')\n",
        "df = pd.DataFrame(data[0])\n",
        "data_np = df.to_numpy()\n",
        "\n",
        "# Convert 'Class' row from b'1' and b'2' to integers 1 and 2\n",
        "data_np[:,-1] = data_np[:,-1].astype(float)\n",
        "\n",
        "# Normalize data with (x-xmin)/(xmax-xmin)\n",
        "for i in range(data_np.shape[1]):\n",
        "    data_np[:,i] = (data_np[:,i] - np.min(data_np[:,i]))/(np.max(data_np[:,i]) - np.min(data_np[:,i]))\n",
        "\n",
        "# Train on evaluation data\n",
        "eval_model_complete = KMEANSClustering(k=5,debug=True)\n",
        "eval_model_complete.fit(data_np)\n",
        "\n",
        "# Print clusters\n",
        "eval_model_complete.print_clusters()"
      ]
    },
    {
      "cell_type": "markdown",
      "metadata": {},
      "source": [
        "Discussion"
      ]
    },
    {
      "cell_type": "markdown",
      "metadata": {},
      "source": [
        "The K-means didn’t do as well as the HAC algorithms on the eval dataset though. The clusters seemed well balanced though."
      ]
    },
    {
      "cell_type": "markdown",
      "metadata": {
        "id": "9vWiTdlbR2Xh"
      },
      "source": [
        "## 2. Iris Clustering with Both Alogrithms\n",
        "For both algorithms: \n",
        "- Don't include the output label as one of the input features\n",
        "- Normalize the data\n",
        "- Show your results for clusterings with *k* = 2-7.  \n",
        "- Graph the silhouette score for each *k* and discuss your results (i.e. what kind of clusters are being made).\n",
        "- Load this Iris Dataset [Iris Dataset](https://raw.githubusercontent.com/cs472ta/CS472/master/datasets/iris.arff)\n",
        "\n",
        "### 2.1 (10%) Iris Clustering with HAC\n",
        "\n",
        "- Use single-link and complete link clustering algorithms\n",
        "---"
      ]
    },
    {
      "cell_type": "code",
      "execution_count": 93,
      "metadata": {},
      "outputs": [],
      "source": [
        "if not os.path.isfile(\"iris.arff\"):\n",
        "    !curl -O https://raw.githubusercontent.com/cs472ta/CS472/master/datasets/iris.arff"
      ]
    },
    {
      "cell_type": "code",
      "execution_count": 108,
      "metadata": {},
      "outputs": [],
      "source": [
        "# Load iris data\n",
        "data = arff.loadarff('iris.arff')\n",
        "df = pd.DataFrame(data[0])\n",
        "df = df.drop(columns=['class'])\n",
        "data_np = df.to_numpy()\n",
        "\n",
        "# Normalize data with (x-xmin)/(xmax-xmin)\n",
        "for i in range(data_np.shape[1]):\n",
        "    data_np[:,i] = (data_np[:,i] - np.min(data_np[:,i]))/(np.max(data_np[:,i]) - np.min(data_np[:,i]))\n"
      ]
    },
    {
      "cell_type": "code",
      "execution_count": 113,
      "metadata": {
        "id": "4SSoasDQSKXb"
      },
      "outputs": [
        {
          "data": {
            "image/png": "[encoded data removed]",
            "text/plain": [
              "<Figure size 640x480 with 1 Axes>"
            ]
          },
          "metadata": {},
          "output_type": "display_data"
        }
      ],
      "source": [
        "# Iris Clustering using single-link\n",
        "k = [2,3,4,5,6,7]\n",
        "scores = []\n",
        "for i in k:\n",
        "    model = HACClustering(k=i,link_type='single')\n",
        "    model.fit(data_np)\n",
        "    scores.append(model.get_silhuoeutte_score())\n",
        "\n",
        "plt.plot(k,scores)\n",
        "plt.xlabel(\"k\")\n",
        "plt.ylabel(\"Silhouette Score\")\n",
        "plt.title(\"Silhouette Score vs k for Single-Link on Iris Dataset\")\n",
        "plt.show()"
      ]
    },
    {
      "cell_type": "code",
      "execution_count": 110,
      "metadata": {
        "id": "qrxjOxay-Jep"
      },
      "outputs": [
        {
          "data": {
            "image/png": "[encoded data removed]",
            "text/plain": [
              "<Figure size 640x480 with 1 Axes>"
            ]
          },
          "metadata": {},
          "output_type": "display_data"
        }
      ],
      "source": [
        "# Iris Clustering using complete-link\n",
        "k = [2,3,4,5,6,7]\n",
        "scores = []\n",
        "\n",
        "for i in k:\n",
        "    model = HACClustering(k=i,link_type='complete')\n",
        "    model.fit(data_np)\n",
        "    scores.append(model.get_silhuoeutte_score())\n",
        "\n",
        "plt.plot(k,scores)\n",
        "plt.xlabel(\"k\")\n",
        "plt.ylabel(\"Silhouette Score\")\n",
        "plt.title(\"Silhouette Score vs k for Complete-Link on Iris Dataset\")\n",
        "plt.show()"
      ]
    },
    {
      "cell_type": "markdown",
      "metadata": {
        "id": "GjkatnQY-Jep"
      },
      "source": [
        "Discuss your results including the differences between single-link and complete-link"
      ]
    },
    {
      "cell_type": "markdown",
      "metadata": {},
      "source": [
        "As can be seen in the two plots above, the silhouette score appears to go down as k increases. This makes sense since there are really only 3 classes. It’s interesting to see that the single link results had the best k-value being 2. It only went down from there, though 3 still had a fairly high k-value. The complete-link results were different though. There, k=3 had the best silhouette score by far. As said before, this shows that it may have found the 3 classes of the iris dataset."
      ]
    },
    {
      "cell_type": "markdown",
      "metadata": {
        "id": "DGfrL7p5-Jeq"
      },
      "source": [
        "### 2.2 (10%) Iris Clustering with K-means"
      ]
    },
    {
      "cell_type": "code",
      "execution_count": 120,
      "metadata": {
        "id": "gigfanaW-Jeq"
      },
      "outputs": [
        {
          "data": {
            "image/png": "[encoded data removed]",
            "text/plain": [
              "<Figure size 640x480 with 1 Axes>"
            ]
          },
          "metadata": {},
          "output_type": "display_data"
        }
      ],
      "source": [
        "# Iris Clustering with K-means\n",
        "k = [2,3,4,5,6,7]\n",
        "scores = []\n",
        "\n",
        "for i in k:\n",
        "    model = KMEANSClustering(k=i, debug=False)\n",
        "    model.fit(data_np)\n",
        "    scores.append(model.get_silhuoeutte_score())\n",
        "\n",
        "plt.plot(k,scores)\n",
        "plt.xlabel(\"k\")\n",
        "plt.ylabel(\"Silhouette Score\")\n",
        "plt.title(\"Silhouette Score vs k for K-means on Iris Dataset\")\n",
        "plt.show()"
      ]
    },
    {
      "cell_type": "markdown",
      "metadata": {
        "id": "IELq_zlu-Jeq"
      },
      "source": [
        "Discuss your results"
      ]
    },
    {
      "cell_type": "markdown",
      "metadata": {},
      "source": [
        "As for K-means, the results looked similar to the single-link results, but then at the end, the silhouette score actually went back up a little. It defintely was better with a smaller k, though."
      ]
    },
    {
      "cell_type": "markdown",
      "metadata": {
        "id": "lVA-r3WV-Jeq"
      },
      "source": [
        "### 2.3 (5%) K-means Initial Centroids Experiment\n",
        "\n",
        "- Run K-means 5 times with *k*=4, each time with different initial random centroids and discuss any variations in the results.\n",
        "- If you ever end up with any empty clusters in K-means, re-run with different initial centroids."
      ]
    },
    {
      "cell_type": "code",
      "execution_count": 125,
      "metadata": {
        "id": "jtXU14fU-Jer"
      },
      "outputs": [
        {
          "name": "stdout",
          "output_type": "stream",
          "text": [
            "Num clusters: 4\n",
            "\n",
            "Silhouette score: 0.3983\n",
            "\n",
            "\n",
            "[0.4413,0.3074,0.5757,0.5492]\n",
            "61\n",
            "\n",
            "[0.1286,0.483 ,0.0747,0.0463]\n",
            "27\n",
            "\n",
            "[0.7073,0.4509,0.797 ,0.8248]\n",
            "39\n",
            "\n",
            "[0.2754,0.7174,0.0833,0.0761]\n",
            "23\n",
            "\n",
            "Num clusters: 4\n",
            "\n",
            "Silhouette score: 0.4435\n",
            "\n",
            "\n",
            "[0.5496,0.377 ,0.6626,0.6558]\n",
            "42\n",
            "\n",
            "[0.1961,0.5908,0.0786,0.06  ]\n",
            "50\n",
            "\n",
            "[0.749 ,0.4769,0.8293,0.8673]\n",
            "27\n",
            "\n",
            "[0.3611,0.246 ,0.5156,0.4745]\n",
            "31\n",
            "\n",
            "Num clusters: 4\n",
            "\n",
            "Silhouette score: 0.4446\n",
            "\n",
            "\n",
            "[0.5417,0.375 ,0.6566,0.6419]\n",
            "42\n",
            "\n",
            "[0.3563,0.2371,0.5091,0.4713]\n",
            "29\n",
            "\n",
            "[0.1961,0.5908,0.0786,0.06  ]\n",
            "50\n",
            "\n",
            "[0.7385,0.4727,0.8229,0.8635]\n",
            "29\n",
            "\n",
            "Num clusters: 4\n",
            "\n",
            "Silhouette score: 0.4446\n",
            "\n",
            "\n",
            "[0.5417,0.375 ,0.6566,0.6419]\n",
            "42\n",
            "\n",
            "[0.7385,0.4727,0.8229,0.8635]\n",
            "29\n",
            "\n",
            "[0.3563,0.2371,0.5091,0.4713]\n",
            "29\n",
            "\n",
            "[0.1961,0.5908,0.0786,0.06  ]\n",
            "50\n",
            "\n",
            "Num clusters: 4\n",
            "\n",
            "Silhouette score: 0.4446\n",
            "\n",
            "\n",
            "[0.3563,0.2371,0.5091,0.4713]\n",
            "29\n",
            "\n",
            "[0.7385,0.4727,0.8229,0.8635]\n",
            "29\n",
            "\n",
            "[0.1961,0.5908,0.0786,0.06  ]\n",
            "50\n",
            "\n",
            "[0.5417,0.375 ,0.6566,0.6419]\n",
            "42\n",
            "\n"
          ]
        }
      ],
      "source": [
        "#K-means 5 times\n",
        "for i in range(5):\n",
        "    model = KMEANSClustering(k=4, debug=False)\n",
        "    model.fit(data_np)\n",
        "    model.print_clusters()\n"
      ]
    },
    {
      "cell_type": "markdown",
      "metadata": {
        "id": "J7LlyNEZ-Jer"
      },
      "source": [
        "Discuss any variations in the results"
      ]
    },
    {
      "cell_type": "markdown",
      "metadata": {},
      "source": [
        "The different silhouette scores were as follows: 0.3983, 0.4435, 0.4446, 0.4446, 0.4446. These were all with k=4 and there was a little variation in the results. The first two runs had different results from the final three. 4 out of the 5 had really close silhouette scores to each other, with the first one being the most different from the rest at about .5 less than the rest of the results."
      ]
    },
    {
      "cell_type": "markdown",
      "metadata": {
        "id": "oBBmeNQ7jvcQ"
      },
      "source": [
        "## 3. Scikit-Learn Comparison\n",
        "\n",
        "### 3.1 (10%) Run the SK versions of HAC (just complete link) and K-means on Iris data set above\n",
        "\n",
        "- Report results for a couple values of *k*\n",
        "- Experiment using different hyper-parameters"
      ]
    },
    {
      "cell_type": "code",
      "execution_count": 146,
      "metadata": {
        "id": "OFQv70W2VyqJ"
      },
      "outputs": [
        {
          "name": "stdout",
          "output_type": "stream",
          "text": [
            "Sklearn complete-Link Silhouette Score k=3, euclidean: 0.5031\n",
            "Sklearn complete-Link Silhouette Score k=3, l1: 0.4512\n",
            "Sklearn complete-Link Silhouette Score k=3, l2: 0.5031\n",
            "Sklearn complete-Link Silhouette Score k=3, manhattan: 0.4512\n",
            "Sklearn complete-Link Silhouette Score k=3, cosine: 0.5309\n",
            "Sklearn complete-Link Silhouette Score k=3, euclidean, average linkage: 0.5043\n",
            "Sklearn complete-Link Silhouette Score k=3, euclidean, ward linkage: 0.5043\n",
            "Sklearn complete-Link Silhouette Score k=4, cosine: 0.3034\n",
            "Sklearn complete-Link Silhouette Score k=4: 0.3932\n",
            "Sklearn complete-Link Silhouette Score k=5: 0.3368\n",
            "Sklearn complete-Link Silhouette Score k=6: 0.3292\n",
            "Sklearn K-means Silhouette Score k=3: 0.5043\n",
            "Sklearn K-means Silhouette Score k=4: 0.4446\n",
            "Sklearn K-means Silhouette Score k=5: 0.3519\n",
            "Sklearn K-means Silhouette Score k=6: 0.3553\n",
            "Sklearn K-means Silhouette Score k=9: 0.3269\n",
            "Sklearn K-means Silhouette Score k=3, algorithm=elkan: 0.5043\n",
            "Sklearn K-means Silhouette Score k=3, init=k-means++: 0.5043\n",
            "Sklearn K-means Silhouette Score k=3, init=random: 0.5043\n"
          ]
        }
      ],
      "source": [
        "# Load sklearn\n",
        "# HAC first\n",
        "\n",
        "model = AgglomerativeClustering(n_clusters=3, affinity='euclidean', linkage='complete')\n",
        "model.fit(data_np)\n",
        "labels = model.labels_\n",
        "print(\"Sklearn complete-Link Silhouette Score k=3, euclidean: {:.4f}\".format(silhouette_score(data_np, labels, metric='euclidean')))\n",
        "\n",
        "model = AgglomerativeClustering(n_clusters=3, affinity='l1', linkage='complete')\n",
        "model.fit(data_np)\n",
        "labels = model.labels_\n",
        "print(\"Sklearn complete-Link Silhouette Score k=3, l1: {:.4f}\".format(silhouette_score(data_np, labels, metric='euclidean')))\n",
        "\n",
        "model = AgglomerativeClustering(n_clusters=3, affinity='l2', linkage='complete')\n",
        "model.fit(data_np)\n",
        "labels = model.labels_\n",
        "print(\"Sklearn complete-Link Silhouette Score k=3, l2: {:.4f}\".format(silhouette_score(data_np, labels, metric='euclidean')))\n",
        "\n",
        "model = AgglomerativeClustering(n_clusters=3, affinity='manhattan', linkage='complete')\n",
        "model.fit(data_np)\n",
        "labels = model.labels_\n",
        "print(\"Sklearn complete-Link Silhouette Score k=3, manhattan: {:.4f}\".format(silhouette_score(data_np, labels, metric='euclidean')))\n",
        "\n",
        "model = AgglomerativeClustering(n_clusters=3, affinity='cosine', linkage='complete')\n",
        "model.fit(data_np)\n",
        "labels = model.labels_\n",
        "print(\"Sklearn complete-Link Silhouette Score k=3, cosine: {:.4f}\".format(silhouette_score(data_np, labels, metric='euclidean')))\n",
        "\n",
        "model = AgglomerativeClustering(n_clusters=3, affinity='euclidean', linkage='average')\n",
        "model.fit(data_np)\n",
        "labels = model.labels_\n",
        "print(\"Sklearn complete-Link Silhouette Score k=3, euclidean, average linkage: {:.4f}\".format(silhouette_score(data_np, labels, metric='euclidean')))\n",
        "\n",
        "model = AgglomerativeClustering(n_clusters=3, affinity='euclidean', linkage='ward')\n",
        "model.fit(data_np)\n",
        "labels = model.labels_\n",
        "print(\"Sklearn complete-Link Silhouette Score k=3, euclidean, ward linkage: {:.4f}\".format(silhouette_score(data_np, labels, metric='euclidean')))\n",
        "\n",
        "# k=4 with cosine distance\n",
        "model = AgglomerativeClustering(n_clusters=4, affinity='cosine', linkage='complete')\n",
        "model.fit(data_np)\n",
        "labels = model.labels_\n",
        "print(\"Sklearn complete-Link Silhouette Score k=4, cosine: {:.4f}\".format(silhouette_score(data_np, labels, metric='euclidean')))\n",
        "\n",
        "# k=4\n",
        "model = AgglomerativeClustering(n_clusters=4, affinity='euclidean', linkage='complete')\n",
        "model.fit(data_np)\n",
        "labels = model.labels_\n",
        "print(\"Sklearn complete-Link Silhouette Score k=4: {:.4f}\".format(silhouette_score(data_np, labels, metric='euclidean')))\n",
        "\n",
        "# k=5\n",
        "model = AgglomerativeClustering(n_clusters=5, affinity='euclidean', linkage='complete')\n",
        "model.fit(data_np)\n",
        "labels = model.labels_\n",
        "print(\"Sklearn complete-Link Silhouette Score k=5: {:.4f}\".format(silhouette_score(data_np, labels, metric='euclidean')))\n",
        "\n",
        "# k=6\n",
        "model = AgglomerativeClustering(n_clusters=6, affinity='euclidean', linkage='complete')\n",
        "model.fit(data_np)\n",
        "labels = model.labels_\n",
        "print(\"Sklearn complete-Link Silhouette Score k=6: {:.4f}\".format(silhouette_score(data_np, labels, metric='euclidean')))\n",
        "\n",
        "\n",
        "# K-means\n",
        "model = KMeans(n_clusters=3, random_state=0).fit(data_np)\n",
        "labels = model.labels_\n",
        "print(\"Sklearn K-means Silhouette Score k=3: {:.4f}\".format(silhouette_score(data_np, labels, metric='euclidean')))\n",
        "\n",
        "model = KMeans(n_clusters=4, random_state=0).fit(data_np)\n",
        "labels = model.labels_\n",
        "print(\"Sklearn K-means Silhouette Score k=4: {:.4f}\".format(silhouette_score(data_np, labels, metric='euclidean')))\n",
        "\n",
        "model = KMeans(n_clusters=5, random_state=0).fit(data_np)\n",
        "labels = model.labels_\n",
        "print(\"Sklearn K-means Silhouette Score k=5: {:.4f}\".format(silhouette_score(data_np, labels, metric='euclidean')))\n",
        "\n",
        "model = KMeans(n_clusters=6, random_state=0).fit(data_np)\n",
        "labels = model.labels_\n",
        "print(\"Sklearn K-means Silhouette Score k=6: {:.4f}\".format(silhouette_score(data_np, labels, metric='euclidean')))\n",
        "\n",
        "model = KMeans(n_clusters=9, random_state=0).fit(data_np)\n",
        "labels = model.labels_\n",
        "print(\"Sklearn K-means Silhouette Score k=9: {:.4f}\".format(silhouette_score(data_np, labels, metric='euclidean')))\n",
        "\n",
        "# Try different K-means algorithms\n",
        "model = KMeans(n_clusters=3, random_state=0, algorithm='elkan').fit(data_np)\n",
        "labels = model.labels_\n",
        "print(\"Sklearn K-means Silhouette Score k=3, algorithm=elkan: {:.4f}\".format(silhouette_score(data_np, labels, metric='euclidean')))\n",
        "\n",
        "# Try different K-means initialization methods\n",
        "model = KMeans(n_clusters=3, random_state=0, init='k-means++').fit(data_np)\n",
        "labels = model.labels_\n",
        "print(\"Sklearn K-means Silhouette Score k=3, init=k-means++: {:.4f}\".format(silhouette_score(data_np, labels, metric='euclidean')))\n",
        "\n",
        "model = KMeans(n_clusters=3, random_state=0, init='random').fit(data_np)\n",
        "labels = model.labels_\n",
        "print(\"Sklearn K-means Silhouette Score k=3, init=random: {:.4f}\".format(silhouette_score(data_np, labels, metric='euclidean')))\n",
        "\n",
        "\n"
      ]
    },
    {
      "cell_type": "markdown",
      "metadata": {
        "id": "BqSFAXwlk3Ms"
      },
      "source": [
        "*Discuss Results and Comparison with your versions of the algorithms. Discuss effects of different hyperparameters*"
      ]
    },
    {
      "cell_type": "markdown",
      "metadata": {},
      "source": [
        "As seen above, I tried a lot of different hyperparameters for both the complete-link HAC and the K-means algorithms. I first tried increasing the k, and for both algorithms, the higher the k I chose, the worse the score. \n",
        "\n",
        "On the HAC models, I tried all the different distance types. Euclidean and l2 got the same results (for k=3) of 0.5031, while the l1 and manhatan distances got the same results, but it was worse at 0.4512. The best distance metric seemed to be cosine, at a score of 0.5309. I also tried average linkage and ward linkage, which yielded the exact same results as single-linkage (all k=3 and euclidean distance).\n",
        "The cosine distance didn't seem to improve the score when k=4. \n",
        "\n",
        "On the k-means models, there were not as many hyperparameters to play with. I tried changing the algorithm to elkan, which yieled the exact same result as the normal defalt lloyd algorithm. I also tried different initialization methods (k-means++ and random), both of which didn't seem to change anything. "
      ]
    },
    {
      "cell_type": "markdown",
      "metadata": {
        "id": "PWXyGtuk-Jer"
      },
      "source": [
        "### 3.2 (10%) Run the SK version of HAC (just complete link) and K-means on a dataset of your choice \n",
        "- Report results for a couple values of *k*\n",
        "- Experiment using different hyper-parameters"
      ]
    },
    {
      "cell_type": "code",
      "execution_count": 192,
      "metadata": {},
      "outputs": [
        {
          "name": "stdout",
          "output_type": "stream",
          "text": [
            "   hp  attack  defense  sp_attack  sp_defense  speed  is_legendary\n",
            "0  45      49       49         65          65     45             0\n",
            "1  60      62       63         80          80     60             0\n",
            "2  80     100      123        122         120     80             0\n",
            "3  39      52       43         60          50     65             0\n",
            "4  58      64       58         80          65     80             0\n"
          ]
        }
      ],
      "source": [
        "# Load pokemon data\n",
        "data = pd.read_csv('pokemon.csv')\n",
        "data = data[['hp','attack', 'defense','sp_attack', 'sp_defense', 'speed', 'is_legendary']]\n",
        "print(data.head())\n",
        "\n",
        "pokemon_data_np = data.values\n",
        "\n",
        "# Normalize data with (x-xmin)/(xmax-xmin)\n",
        "pokemon_data_np = (pokemon_data_np - pokemon_data_np.min(axis=0)) / (pokemon_data_np.max(axis=0) - pokemon_data_np.min(axis=0))\n"
      ]
    },
    {
      "cell_type": "code",
      "execution_count": 207,
      "metadata": {
        "id": "Iu510dby-Jer"
      },
      "outputs": [
        {
          "name": "stdout",
          "output_type": "stream",
          "text": [
            "Sklearn complete-Link Silhouette Score k=2: 0.6162\n",
            "Sklearn complete-Link Silhouette Score k=3: 0.6044\n",
            "Sklearn complete-Link Silhouette Score k=4: 0.2584\n",
            "Sklearn complete-Link Silhouette Score k=5: 0.2442\n",
            "Sklearn complete-Link Silhouette Score k=6: 0.2249\n",
            "Sklearn complete-Link Silhouette Score k=2, affinity=l1: 0.6162\n",
            "Sklearn complete-Link Silhouette Score k=2, affinity=l2: 0.6162\n",
            "Sklearn complete-Link Silhouette Score k=2, affinity=manhattan: 0.6162\n",
            "Sklearn complete-Link Silhouette Score k=2, affinity=cosine: 0.0221\n",
            "Sklearn complete-Link Silhouette Score k=3, affinity=cosine: 0.0122\n",
            "Sklearn complete-Link Silhouette Score k=4, affinity=cosine: 0.1395\n",
            "Sklearn complete-Link Silhouette Score k=10, affinity=cosine: 0.0883\n",
            "Sklearn K-means Silhouette Score k=2: 0.6162\n",
            "Sklearn K-means Silhouette Score k=3: 0.3019\n",
            "Sklearn K-means Silhouette Score k=4: 0.2907\n",
            "Sklearn K-means Silhouette Score k=5: 0.2820\n",
            "Sklearn K-means Silhouette Score k=6: 0.2048\n",
            "Sklearn K-means Silhouette Score k=2, algorithm=elkan: 0.6162\n",
            "Sklearn K-means Silhouette Score k=3, algorithm=elkan: 0.3019\n",
            "Sklearn K-means Silhouette Score k=4, algorithm=elkan: 0.2907\n"
          ]
        }
      ],
      "source": [
        "# Load sklearn \n",
        "\n",
        "# HAC\n",
        "model = AgglomerativeClustering(n_clusters=2, affinity='euclidean', linkage='complete')\n",
        "model.fit(pokemon_data_np)\n",
        "labels = model.labels_\n",
        "print(\"Sklearn complete-Link Silhouette Score k=2: {:.4f}\".format(silhouette_score(pokemon_data_np, labels, metric='euclidean')))\n",
        "\n",
        "model = AgglomerativeClustering(n_clusters=3, affinity='euclidean', linkage='complete')\n",
        "model.fit(pokemon_data_np)\n",
        "labels = model.labels_\n",
        "print(\"Sklearn complete-Link Silhouette Score k=3: {:.4f}\".format(silhouette_score(pokemon_data_np, labels, metric='euclidean')))\n",
        "\n",
        "model = AgglomerativeClustering(n_clusters=4, affinity='euclidean', linkage='complete')\n",
        "model.fit(pokemon_data_np)\n",
        "labels = model.labels_\n",
        "print(\"Sklearn complete-Link Silhouette Score k=4: {:.4f}\".format(silhouette_score(pokemon_data_np, labels, metric='euclidean')))\n",
        "\n",
        "model = AgglomerativeClustering(n_clusters=5, affinity='euclidean', linkage='complete')\n",
        "model.fit(pokemon_data_np)\n",
        "labels = model.labels_\n",
        "print(\"Sklearn complete-Link Silhouette Score k=5: {:.4f}\".format(silhouette_score(pokemon_data_np, labels, metric='euclidean')))\n",
        "\n",
        "model = AgglomerativeClustering(n_clusters=6, affinity='euclidean', linkage='complete')\n",
        "model.fit(pokemon_data_np)\n",
        "labels = model.labels_\n",
        "print(\"Sklearn complete-Link Silhouette Score k=6: {:.4f}\".format(silhouette_score(pokemon_data_np, labels, metric='euclidean')))\n",
        "\n",
        "# Try complete-linkage with different affinity\n",
        "model = AgglomerativeClustering(n_clusters=2, affinity='l1', linkage='complete')\n",
        "model.fit(pokemon_data_np)\n",
        "labels = model.labels_\n",
        "print(\"Sklearn complete-Link Silhouette Score k=2, affinity=l1: {:.4f}\".format(silhouette_score(pokemon_data_np, labels, metric='euclidean')))\n",
        "\n",
        "model = AgglomerativeClustering(n_clusters=2, affinity='l2', linkage='complete')\n",
        "model.fit(pokemon_data_np)\n",
        "labels = model.labels_\n",
        "print(\"Sklearn complete-Link Silhouette Score k=2, affinity=l2: {:.4f}\".format(silhouette_score(pokemon_data_np, labels, metric='euclidean')))\n",
        "\n",
        "model = AgglomerativeClustering(n_clusters=2, affinity='manhattan', linkage='complete')\n",
        "model.fit(pokemon_data_np)\n",
        "labels = model.labels_\n",
        "print(\"Sklearn complete-Link Silhouette Score k=2, affinity=manhattan: {:.4f}\".format(silhouette_score(pokemon_data_np, labels, metric='euclidean')))\n",
        "\n",
        "model = AgglomerativeClustering(n_clusters=2, affinity='cosine', linkage='complete')\n",
        "model.fit(pokemon_data_np)\n",
        "labels = model.labels_\n",
        "print(\"Sklearn complete-Link Silhouette Score k=2, affinity=cosine: {:.4f}\".format(silhouette_score(pokemon_data_np, labels, metric='euclidean')))\n",
        "\n",
        "# Try complete-linkage with different k with cosine\n",
        "model = AgglomerativeClustering(n_clusters=3, affinity='cosine', linkage='complete')\n",
        "model.fit(pokemon_data_np)\n",
        "labels = model.labels_\n",
        "print(\"Sklearn complete-Link Silhouette Score k=3, affinity=cosine: {:.4f}\".format(silhouette_score(pokemon_data_np, labels, metric='euclidean')))\n",
        "\n",
        "model = AgglomerativeClustering(n_clusters=4, affinity='cosine', linkage='complete')\n",
        "model.fit(pokemon_data_np)\n",
        "labels = model.labels_\n",
        "print(\"Sklearn complete-Link Silhouette Score k=4, affinity=cosine: {:.4f}\".format(silhouette_score(pokemon_data_np, labels, metric='euclidean')))\n",
        "\n",
        "model = AgglomerativeClustering(n_clusters=10, affinity='cosine', linkage='complete')\n",
        "model.fit(pokemon_data_np)\n",
        "labels = model.labels_\n",
        "print(\"Sklearn complete-Link Silhouette Score k=10, affinity=cosine: {:.4f}\".format(silhouette_score(pokemon_data_np, labels, metric='euclidean')))\n",
        "\n",
        "# K-means\n",
        "model = KMeans(n_clusters=2, random_state=0).fit(pokemon_data_np)\n",
        "labels = model.labels_\n",
        "print(\"Sklearn K-means Silhouette Score k=2: {:.4f}\".format(silhouette_score(pokemon_data_np, labels, metric='euclidean')))\n",
        "\n",
        "model = KMeans(n_clusters=3, random_state=0).fit(pokemon_data_np)\n",
        "labels = model.labels_\n",
        "print(\"Sklearn K-means Silhouette Score k=3: {:.4f}\".format(silhouette_score(pokemon_data_np, labels, metric='euclidean')))\n",
        "\n",
        "model = KMeans(n_clusters=4, random_state=0).fit(pokemon_data_np)\n",
        "labels = model.labels_\n",
        "print(\"Sklearn K-means Silhouette Score k=4: {:.4f}\".format(silhouette_score(pokemon_data_np, labels, metric='euclidean')))\n",
        "\n",
        "model = KMeans(n_clusters=5, random_state=0).fit(pokemon_data_np)\n",
        "labels = model.labels_\n",
        "print(\"Sklearn K-means Silhouette Score k=5: {:.4f}\".format(silhouette_score(pokemon_data_np, labels, metric='euclidean')))\n",
        "\n",
        "model = KMeans(n_clusters=6, random_state=0).fit(pokemon_data_np)\n",
        "labels = model.labels_\n",
        "print(\"Sklearn K-means Silhouette Score k=6: {:.4f}\".format(silhouette_score(pokemon_data_np, labels, metric='euclidean')))\n",
        "\n",
        "# Try K-means with elkan and different k\n",
        "model = KMeans(n_clusters=2, random_state=0, algorithm='elkan').fit(pokemon_data_np)\n",
        "labels = model.labels_\n",
        "print(\"Sklearn K-means Silhouette Score k=2, algorithm=elkan: {:.4f}\".format(silhouette_score(pokemon_data_np, labels, metric='euclidean')))\n",
        "\n",
        "model = KMeans(n_clusters=3, random_state=0, algorithm='elkan').fit(pokemon_data_np)\n",
        "labels = model.labels_\n",
        "print(\"Sklearn K-means Silhouette Score k=3, algorithm=elkan: {:.4f}\".format(silhouette_score(pokemon_data_np, labels, metric='euclidean')))\n",
        "\n",
        "model = KMeans(n_clusters=4, random_state=0, algorithm='elkan').fit(pokemon_data_np)\n",
        "labels = model.labels_\n",
        "print(\"Sklearn K-means Silhouette Score k=4, algorithm=elkan: {:.4f}\".format(silhouette_score(pokemon_data_np, labels, metric='euclidean')))\n",
        "\n"
      ]
    },
    {
      "cell_type": "markdown",
      "metadata": {
        "id": "T-oKHPPT-Jer"
      },
      "source": [
        "*Discussion*"
      ]
    },
    {
      "cell_type": "markdown",
      "metadata": {},
      "source": [
        "I used a pokemon dataset I got from kaggle that has 801 pokemon. I only kept the base state values for each pokemon and whether or not the pokemon is a legendary. I figured it would group them into 2 groups (non-legendary and legendary) best, so that's why k=2 seemed to be the best accross the board with all the hyperparameters (as can be seen above). It peaked at 0.6152, which it seemed to be able to get no matter the other hyperparameters while k=2."
      ]
    },
    {
      "cell_type": "markdown",
      "metadata": {
        "id": "cTlK-kijk8Mg"
      },
      "source": [
        "## 4. (Optional 5% extra credit) Write your own code for silhouette\n",
        "If you do this option implement your code for silhouette above in your main implementation and use it for your experiments. Make it clear that the silhouette results come from your code. You may/should compare with the SK version to debug/verify your results."
      ]
    },
    {
      "cell_type": "markdown",
      "metadata": {
        "id": "ZtWj9ej2-Jes"
      },
      "source": [
        "*Discussion*"
      ]
    }
  ],
  "metadata": {
    "colab": {
      "collapsed_sections": [],
      "provenance": []
    },
    "kernelspec": {
      "display_name": "Python 3.9.6 64-bit",
      "language": "python",
      "name": "python3"
    },
    "language_info": {
      "codemirror_mode": {
        "name": "ipython",
        "version": 3
      },
      "file_extension": ".py",
      "mimetype": "text/x-python",
      "name": "python",
      "nbconvert_exporter": "python",
      "pygments_lexer": "ipython3",
      "version": "3.9.6"
    },
    "vscode": {
      "interpreter": {
        "hash": "31f2aee4e71d21fbe5cf8b01ff0e069b9275f58929596ceb00d14d90e3e16cd6"
      }
    }
  },
  "nbformat": 4,
  "nbformat_minor": 0
}
